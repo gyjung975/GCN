{
 "cells": [
  {
   "cell_type": "code",
   "execution_count": 1,
   "id": "a3ac6f14-5e4e-48d0-a950-ed398396d9a7",
   "metadata": {},
   "outputs": [
    {
     "name": "stdout",
     "output_type": "stream",
     "text": [
      "7\n",
      "Data(x=[2708, 1433], edge_index=[2, 10556], y=[2708], train_mask=[2708], val_mask=[2708], test_mask=[2708])\n",
      "['test_mask', 'train_mask', 'x', 'y', 'val_mask', 'edge_index']\n"
     ]
    }
   ],
   "source": [
    "from torch_geometric.datasets import Planetoid\n",
    "dataset = Planetoid(root='./', name = 'cora')\n",
    "g = dataset[0]\n",
    "print(dataset.num_classes)\n",
    "print(g)\n",
    "print(g.keys)"
   ]
  },
  {
   "cell_type": "code",
   "execution_count": 2,
   "id": "34830494-7c16-4e4b-8c8e-f2ffcdd01c15",
   "metadata": {},
   "outputs": [],
   "source": [
    "import torch\n",
    "import torch.nn as nn\n",
    "import torch.nn.functional as F\n",
    "from torch_geometric.nn import GCNConv\n",
    "\n",
    "class GCN(nn.Module):\n",
    "    def __init__(self):\n",
    "        super(GCN, self).__init__()\n",
    "        self.conv1 = GCNConv(g.num_node_features, 16)\n",
    "        self.conv2 = GCNConv(16, dataset.num_classes)\n",
    "        self.relu = nn.ReLU()\n",
    "        \n",
    "    def forward(self, g):\n",
    "        x, edge_index = g.x, g.edge_index\n",
    "        \n",
    "        x = self.conv1(x, edge_index)\n",
    "        x = self.relu(x)\n",
    "        x = F.dropout(x, training = self.training)\n",
    "        x = self.conv2(x, edge_index)\n",
    "        return x"
   ]
  },
  {
   "cell_type": "code",
   "execution_count": 3,
   "id": "4746d468-3306-4632-b7ac-9a6ad2df75f9",
   "metadata": {},
   "outputs": [
    {
     "name": "stdout",
     "output_type": "stream",
     "text": [
      "cpu\n"
     ]
    }
   ],
   "source": [
    "device = 'cuda' if torch.cuda.is_available() else 'cpu'\n",
    "print(device)"
   ]
  },
  {
   "cell_type": "code",
   "execution_count": 4,
   "id": "8ec4b6ba-b6fa-4d20-983a-9f90bf7d3531",
   "metadata": {},
   "outputs": [
    {
     "name": "stdout",
     "output_type": "stream",
     "text": [
      "GCN(\n",
      "  (conv1): GCNConv(1433, 16)\n",
      "  (conv2): GCNConv(16, 7)\n",
      "  (relu): ReLU()\n",
      ")\n"
     ]
    }
   ],
   "source": [
    "model = GCN().to(device)\n",
    "g = g.to(device)\n",
    "optimizer = torch.optim.Adam(model.parameters(), lr = 0.01, weight_decay = 5e-4)\n",
    "criterion = nn.CrossEntropyLoss()\n",
    "print(model)"
   ]
  },
  {
   "cell_type": "code",
   "execution_count": 5,
   "id": "8359b9bc-ea93-4e41-8927-cc589523c027",
   "metadata": {},
   "outputs": [
    {
     "name": "stdout",
     "output_type": "stream",
     "text": [
      "tensor([2, 4, 4,  ..., 4, 4, 4])\n",
      "torch.Size([2708])\n",
      "8944\n",
      "tensor([2, 4, 4,  ..., 4, 4, 4])\n",
      "torch.Size([2708])\n",
      "8944\n",
      "tensor([True, True, True,  ..., True, True, True])\n"
     ]
    }
   ],
   "source": [
    "for i in range(200):\n",
    "    out = model(g)\n",
    "    _, pred = out.max(1)\n",
    "    print(pred)\n",
    "    print(pred.shape)\n",
    "    print(pred.sum().item())\n",
    "    \n",
    "    print(out.argmax(1))\n",
    "    print(out.argmax(1).shape)\n",
    "    print(out.argmax(1).sum().item())\n",
    "    print(pred == out.argmax(1))\n",
    "    break"
   ]
  },
  {
   "cell_type": "code",
   "execution_count": 6,
   "id": "eb619586-2dee-4d79-a28b-a3f32035b5de",
   "metadata": {},
   "outputs": [
    {
     "name": "stdout",
     "output_type": "stream",
     "text": [
      "Epoch 00000  /  Loss 1.9446  /  Train_acc 0.2143\n",
      "Epoch 00010  /  Loss 0.7546  /  Train_acc 0.9500\n",
      "Epoch 00020  /  Loss 0.2463  /  Train_acc 0.9857\n",
      "Epoch 00030  /  Loss 0.0782  /  Train_acc 1.0000\n",
      "Epoch 00040  /  Loss 0.0692  /  Train_acc 1.0000\n",
      "Epoch 00050  /  Loss 0.0516  /  Train_acc 1.0000\n",
      "Epoch 00060  /  Loss 0.0367  /  Train_acc 1.0000\n",
      "Epoch 00070  /  Loss 0.0391  /  Train_acc 1.0000\n",
      "Epoch 00080  /  Loss 0.0353  /  Train_acc 1.0000\n",
      "Epoch 00090  /  Loss 0.0433  /  Train_acc 1.0000\n",
      "Epoch 00100  /  Loss 0.0253  /  Train_acc 1.0000\n",
      "Epoch 00110  /  Loss 0.0227  /  Train_acc 1.0000\n",
      "Epoch 00120  /  Loss 0.0570  /  Train_acc 0.9929\n",
      "Epoch 00130  /  Loss 0.0229  /  Train_acc 1.0000\n",
      "Epoch 00140  /  Loss 0.0364  /  Train_acc 1.0000\n",
      "Epoch 00150  /  Loss 0.0420  /  Train_acc 0.9929\n",
      "Epoch 00160  /  Loss 0.0220  /  Train_acc 1.0000\n",
      "Epoch 00170  /  Loss 0.0504  /  Train_acc 1.0000\n",
      "Epoch 00180  /  Loss 0.0281  /  Train_acc 1.0000\n",
      "Epoch 00190  /  Loss 0.0423  /  Train_acc 0.9929\n"
     ]
    }
   ],
   "source": [
    "for epoch in range(200):\n",
    "    model.train()\n",
    "    \n",
    "    out = model(g)\n",
    "    loss = criterion(out[g.train_mask], g.y[g.train_mask])\n",
    "    \n",
    "    optimizer.zero_grad()\n",
    "    loss.backward()\n",
    "    optimizer.step()\n",
    "    \n",
    "    pred = out.argmax(1)\n",
    "    correct = (pred[g.train_mask] == g.y[g.train_mask]).sum().item()\n",
    "    train_acc = correct / (g.train_mask.sum().item())\n",
    "    \n",
    "    if epoch % 10 == 0:\n",
    "        print(\"Epoch {:05d}  /  Loss {:.4f}  /  Train_acc {:.4f}\".\n",
    "              format(epoch, loss.item(), train_acc))"
   ]
  },
  {
   "cell_type": "code",
   "execution_count": 7,
   "id": "5bd1377f-3720-4956-9928-19ca021c0fb5",
   "metadata": {},
   "outputs": [
    {
     "name": "stdout",
     "output_type": "stream",
     "text": [
      "Test Accuracy : 0.7930\n"
     ]
    }
   ],
   "source": [
    "model.eval()\n",
    "out = model(g)\n",
    "pred = out.argmax(1)\n",
    "correct = (pred[g.test_mask] == g.y[g.test_mask]).sum().item()\n",
    "test_acc = correct / (g.test_mask.sum().item())\n",
    "print(\"Test Accuracy : {:.4f}\".format(test_acc))"
   ]
  },
  {
   "cell_type": "code",
   "execution_count": null,
   "id": "d7137f58-89b7-46c2-95c5-360a325a2cf5",
   "metadata": {},
   "outputs": [],
   "source": []
  }
 ],
 "metadata": {
  "kernelspec": {
   "display_name": "pytorch",
   "language": "python",
   "name": "pytorch"
  },
  "language_info": {
   "codemirror_mode": {
    "name": "ipython",
    "version": 3
   },
   "file_extension": ".py",
   "mimetype": "text/x-python",
   "name": "python",
   "nbconvert_exporter": "python",
   "pygments_lexer": "ipython3",
   "version": "3.8.12"
  }
 },
 "nbformat": 4,
 "nbformat_minor": 5
}
